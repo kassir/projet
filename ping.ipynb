{
 "cells": [
  {
   "cell_type": "markdown",
   "metadata": {},
   "source": [
    "# Exercice 2:"
   ]
  },
  {
   "cell_type": "markdown",
   "metadata": {},
   "source": [
    "## 2/ Création d'une série"
   ]
  },
  {
   "cell_type": "code",
   "execution_count": 2,
   "metadata": {
    "collapsed": true
   },
   "outputs": [],
   "source": [
    "#importons les librairies panda et numpy\n",
    "import pandas as pd\n",
    "import numpy as np\n",
    "\n",
    "#importons la librairie matpotlib.pyplot\n",
    "import matplotlib.pyplot as plt"
   ]
  },
  {
   "cell_type": "code",
   "execution_count": 3,
   "metadata": {
    "collapsed": false
   },
   "outputs": [],
   "source": [
    "d = {'BDTN' : 'big data', 'ASR' : 'Architecture et Sécurité des Réseaux ', 'ISN' : 'Ingénierie des Services du Numérique', 'IAIR' : 'Ingénieur d’Affaires : Informatique et Réseaux ', 'IF' :'Ingénieur Finance '}\n",
    "maSérie = pd.Series(d)"
   ]
  },
  {
   "cell_type": "code",
   "execution_count": 4,
   "metadata": {
    "collapsed": false
   },
   "outputs": [
    {
     "data": {
      "text/plain": [
       "ASR               Architecture et Sécurité des Réseaux \n",
       "BDTN                                           big data\n",
       "IAIR    Ingénieur d’Affaires : Informatique et Réseaux \n",
       "IF                                   Ingénieur Finance \n",
       "ISN                Ingénierie des Services du Numérique\n",
       "dtype: object"
      ]
     },
     "execution_count": 4,
     "metadata": {},
     "output_type": "execute_result"
    }
   ],
   "source": [
    "maSérie"
   ]
  },
  {
   "cell_type": "markdown",
   "metadata": {
    "collapsed": true
   },
   "source": [
    "## 3/ Ajoutons une colonne avec le département auquel chaque dominante appartient "
   ]
  },
  {
   "cell_type": "code",
   "execution_count": 5,
   "metadata": {
    "collapsed": false
   },
   "outputs": [
    {
     "data": {
      "text/plain": [
       "ASR         TIC\n",
       "BDTN        TIC\n",
       "IAIR        TIC\n",
       "IF      Finance\n",
       "ISN         TIC\n",
       "dtype: object"
      ]
     },
     "execution_count": 5,
     "metadata": {},
     "output_type": "execute_result"
    }
   ],
   "source": [
    "s1 = pd.Series({'BDTN' : 'TIC', 'ASR' :'TIC', 'ISN' : 'TIC', 'IAIR': 'TIC', 'IF' : 'Finance'})\n",
    "s1\n"
   ]
  },
  {
   "cell_type": "code",
   "execution_count": 6,
   "metadata": {
    "collapsed": false
   },
   "outputs": [
    {
     "data": {
      "text/html": [
       "<div>\n",
       "<table border=\"1\" class=\"dataframe\">\n",
       "  <thead>\n",
       "    <tr style=\"text-align: right;\">\n",
       "      <th></th>\n",
       "      <th>Département</th>\n",
       "      <th>Nom dominantes</th>\n",
       "    </tr>\n",
       "  </thead>\n",
       "  <tbody>\n",
       "    <tr>\n",
       "      <th>ASR</th>\n",
       "      <td>TIC</td>\n",
       "      <td>Architecture et Sécurité des Réseaux</td>\n",
       "    </tr>\n",
       "    <tr>\n",
       "      <th>BDTN</th>\n",
       "      <td>TIC</td>\n",
       "      <td>big data</td>\n",
       "    </tr>\n",
       "    <tr>\n",
       "      <th>IAIR</th>\n",
       "      <td>TIC</td>\n",
       "      <td>Ingénieur d’Affaires : Informatique et Réseaux</td>\n",
       "    </tr>\n",
       "    <tr>\n",
       "      <th>IF</th>\n",
       "      <td>Finance</td>\n",
       "      <td>Ingénieur Finance</td>\n",
       "    </tr>\n",
       "    <tr>\n",
       "      <th>ISN</th>\n",
       "      <td>TIC</td>\n",
       "      <td>Ingénierie des Services du Numérique</td>\n",
       "    </tr>\n",
       "  </tbody>\n",
       "</table>\n",
       "</div>"
      ],
      "text/plain": [
       "     Département                                   Nom dominantes\n",
       "ASR          TIC            Architecture et Sécurité des Réseaux \n",
       "BDTN         TIC                                         big data\n",
       "IAIR         TIC  Ingénieur d’Affaires : Informatique et Réseaux \n",
       "IF       Finance                               Ingénieur Finance \n",
       "ISN          TIC             Ingénierie des Services du Numérique"
      ]
     },
     "execution_count": 6,
     "metadata": {},
     "output_type": "execute_result"
    }
   ],
   "source": [
    "new = pd.DataFrame({'Nom dominantes' : maSérie,\n",
    "                 'Département': s1})\n",
    "new"
   ]
  },
  {
   "cell_type": "markdown",
   "metadata": {},
   "source": [
    "## 4/  Création d'une dataframe contenant le nom, prénom et code de dominante pour chaque membre de votre PING "
   ]
  },
  {
   "cell_type": "code",
   "execution_count": 7,
   "metadata": {
    "collapsed": false
   },
   "outputs": [
    {
     "data": {
      "text/html": [
       "<div>\n",
       "<table border=\"1\" class=\"dataframe\">\n",
       "  <thead>\n",
       "    <tr style=\"text-align: right;\">\n",
       "      <th></th>\n",
       "      <th>Nom</th>\n",
       "      <th>Prénom</th>\n",
       "      <th>Code de dominante</th>\n",
       "    </tr>\n",
       "  </thead>\n",
       "  <tbody>\n",
       "    <tr>\n",
       "      <th>0</th>\n",
       "      <td>SAROUKOU</td>\n",
       "      <td>Kassir</td>\n",
       "      <td>BDTN</td>\n",
       "    </tr>\n",
       "    <tr>\n",
       "      <th>1</th>\n",
       "      <td>FIGUEROA</td>\n",
       "      <td>Fani</td>\n",
       "      <td>IF</td>\n",
       "    </tr>\n",
       "    <tr>\n",
       "      <th>2</th>\n",
       "      <td>MURET</td>\n",
       "      <td>Romain</td>\n",
       "      <td>IAIR</td>\n",
       "    </tr>\n",
       "    <tr>\n",
       "      <th>3</th>\n",
       "      <td>CHARLET</td>\n",
       "      <td>Alexis</td>\n",
       "      <td>ASR</td>\n",
       "    </tr>\n",
       "    <tr>\n",
       "      <th>4</th>\n",
       "      <td>DEVAUCHELLE</td>\n",
       "      <td>Emilie</td>\n",
       "      <td>IAIR</td>\n",
       "    </tr>\n",
       "    <tr>\n",
       "      <th>5</th>\n",
       "      <td>GOS</td>\n",
       "      <td>Tiphaine</td>\n",
       "      <td>IAIR</td>\n",
       "    </tr>\n",
       "  </tbody>\n",
       "</table>\n",
       "</div>"
      ],
      "text/plain": [
       "           Nom    Prénom Code de dominante\n",
       "0     SAROUKOU    Kassir              BDTN\n",
       "1     FIGUEROA      Fani                IF\n",
       "2        MURET    Romain              IAIR\n",
       "3      CHARLET    Alexis               ASR\n",
       "4  DEVAUCHELLE    Emilie              IAIR\n",
       "5          GOS  Tiphaine              IAIR"
      ]
     },
     "execution_count": 7,
     "metadata": {},
     "output_type": "execute_result"
    }
   ],
   "source": [
    "ping = pd.DataFrame({'Nom': ['SAROUKOU', 'FIGUEROA', 'MURET', 'CHARLET', 'DEVAUCHELLE', 'GOS'],\n",
    "                    'Prénom': pd.Series(['Kassir', 'Fani', 'Romain', 'Alexis', 'Emilie', 'Tiphaine']),\n",
    "                    'Code de dominante': pd.Series(['BDTN', 'IF', 'IAIR', 'ASR', 'IAIR', 'IAIR'])\n",
    "                     }, columns=['Nom','Prénom','Code de dominante'])\n",
    "ping"
   ]
  },
  {
   "cell_type": "markdown",
   "metadata": {},
   "source": [
    "## 5/ Création d'une dataframe contenant le pourcentage d’élèves par département pour votre PING "
   ]
  },
  {
   "cell_type": "code",
   "execution_count": 183,
   "metadata": {
    "collapsed": false
   },
   "outputs": [
    {
     "data": {
      "text/plain": [
       "Code de dominante\n",
       "ASR     0.166667\n",
       "BDTN    0.166667\n",
       "IAIR    0.500000\n",
       "IF      0.166667\n",
       "dtype: float64"
      ]
     },
     "execution_count": 183,
     "metadata": {},
     "output_type": "execute_result"
    }
   ],
   "source": [
    "p = pd.Series(ping.groupby('Code de dominante').size()/len(ping))\n",
    "p"
   ]
  },
  {
   "cell_type": "code",
   "execution_count": 85,
   "metadata": {
    "collapsed": false
   },
   "outputs": [],
   "source": [
    "pourcentage = pd.DataFrame({'Pourcentage' : p})"
   ]
  },
  {
   "cell_type": "code",
   "execution_count": 86,
   "metadata": {
    "collapsed": false
   },
   "outputs": [
    {
     "data": {
      "text/html": [
       "<div>\n",
       "<table border=\"1\" class=\"dataframe\">\n",
       "  <thead>\n",
       "    <tr style=\"text-align: right;\">\n",
       "      <th></th>\n",
       "      <th>Pourcentage</th>\n",
       "    </tr>\n",
       "    <tr>\n",
       "      <th>Code de dominante</th>\n",
       "      <th></th>\n",
       "    </tr>\n",
       "  </thead>\n",
       "  <tbody>\n",
       "    <tr>\n",
       "      <th>ASR</th>\n",
       "      <td>0.166667</td>\n",
       "    </tr>\n",
       "    <tr>\n",
       "      <th>BDTN</th>\n",
       "      <td>0.166667</td>\n",
       "    </tr>\n",
       "    <tr>\n",
       "      <th>IAIR</th>\n",
       "      <td>0.500000</td>\n",
       "    </tr>\n",
       "    <tr>\n",
       "      <th>IF</th>\n",
       "      <td>0.166667</td>\n",
       "    </tr>\n",
       "  </tbody>\n",
       "</table>\n",
       "</div>"
      ],
      "text/plain": [
       "                   Pourcentage\n",
       "Code de dominante             \n",
       "ASR                   0.166667\n",
       "BDTN                  0.166667\n",
       "IAIR                  0.500000\n",
       "IF                    0.166667"
      ]
     },
     "execution_count": 86,
     "metadata": {},
     "output_type": "execute_result"
    }
   ],
   "source": [
    "pourcentage"
   ]
  },
  {
   "cell_type": "markdown",
   "metadata": {},
   "source": [
    "## 6/  Enregistrment du résultat dans un ﬁchier csv"
   ]
  },
  {
   "cell_type": "code",
   "execution_count": 11,
   "metadata": {
    "collapsed": false
   },
   "outputs": [],
   "source": [
    "pourcentage.to_csv('Pourcentage')"
   ]
  },
  {
   "cell_type": "markdown",
   "metadata": {},
   "source": [
    "# visualisations de la répartion sous forme de :\n",
    "    "
   ]
  },
  {
   "cell_type": "markdown",
   "metadata": {},
   "source": [
    "## 1/ diagramme en barres"
   ]
  },
  {
   "cell_type": "code",
   "execution_count": 162,
   "metadata": {
    "collapsed": false
   },
   "outputs": [],
   "source": [
    "Code = ping['Code de dominante'].unique()\n",
    "y_pos = np.arange(len(Code))\n"
   ]
  },
  {
   "cell_type": "code",
   "execution_count": 166,
   "metadata": {
    "collapsed": false
   },
   "outputs": [],
   "source": [
    "performance = pourcentage.values"
   ]
  },
  {
   "cell_type": "code",
   "execution_count": 175,
   "metadata": {
    "collapsed": false
   },
   "outputs": [
    {
     "data": {
      "image/png": "[encoded data removed]",
      "text/plain": [
       "<matplotlib.figure.Figure at 0x28d0aab1eb8>"
      ]
     },
     "metadata": {},
     "output_type": "display_data"
    }
   ],
   "source": [
    "%matplotlib inline\n",
    "# Noms des axes et de la figure\n",
    "plt.ylabel('Pourcentage')\n",
    "plt.xlabel('Dominantes')\n",
    "plt.title('Répartion par dominante')\n",
    "\n",
    "#Définition de x, y et des paramètre de la figure\n",
    "plt.yticks(performance, rotation='vertical')\n",
    "plt.xticks(y_pos, Code)\n",
    "plt.bar(y_pos, performance , align='center',width=0.5, alpha=1)\n",
    "plt.axis([0, 4, 0,1])\n",
    "plt.show()"
   ]
  },
  {
   "cell_type": "markdown",
   "metadata": {},
   "source": [
    "## 2/ Camembert\n"
   ]
  },
  {
   "cell_type": "code",
   "execution_count": 182,
   "metadata": {
    "collapsed": false
   },
   "outputs": [
    {
     "data": {
      "image/png": "[encoded data removed]",
      "text/plain": [
       "<matplotlib.figure.Figure at 0x28d0aa0f358>"
      ]
     },
     "metadata": {},
     "output_type": "display_data"
    }
   ],
   "source": [
    "colors = ['yellow', 'green', 'blue', 'red']\n",
    "explode = (0, 0.1, 0, 0)  # only \"explode\" the 2nd slice (i.e. 'IF')\n",
    "\n",
    "plt.pie(performance, explode=explode, labels=Code, colors=colors,\n",
    "        autopct='%1.1f%%', shadow=True, startangle=90)\n",
    "# Set aspect ratio to be equal so that pie is drawn as a circle.\n",
    "plt.axis('equal')\n",
    "\n",
    "plt.show()\n",
    "\n"
   ]
  }
 ],
 "metadata": {
  "anaconda-cloud": {},
  "kernelspec": {
   "display_name": "Python [default]",
   "language": "python",
   "name": "python3"
  },
  "language_info": {
   "codemirror_mode": {
    "name": "ipython",
    "version": 3
   },
   "file_extension": ".py",
   "mimetype": "text/x-python",
   "name": "python",
   "nbconvert_exporter": "python",
   "pygments_lexer": "ipython3",
   "version": "3.5.2"
  }
 },
 "nbformat": 4,
 "nbformat_minor": 1
}
