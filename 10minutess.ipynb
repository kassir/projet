{
 "cells": [
  {
   "cell_type": "markdown",
   "metadata": {},
   "source": [
    "## Data types"
   ]
  },
  {
   "cell_type": "code",
   "execution_count": 3,
   "metadata": {
    "collapsed": false
   },
   "outputs": [
    {
     "name": "stdout",
     "output_type": "stream",
     "text": [
      "3\n"
     ]
    }
   ],
   "source": [
    "sample = [1, [\"another\", \"list\"], (\"a\", \"tuple\")]\n",
    "#creation de la liste\n",
    "mylist = [\"List item 1\", 2, 3.14]\n",
    "#changement de la 1ere variable de la liste\n",
    "mylist[0] = \"List item 1 again\"\n",
    "#changement de la derniere variable\n",
    "mylist[-1] = 3.21 \n",
    "#creatio\n",
    "mydict = {\"Key 1\": \"Value 1\", 2: 3, \"pi\": 3.14}\n",
    "#changement de la variable pi\n",
    "mydict[\"pi\"] = 3.15 \n",
    "#creation de la liste\n",
    "mytuple = (1, 2, 3)\n",
    "# len retourne le nombre d'éléments d'une liste \n",
    "myfunction = len\n",
    "#affichage\n",
    "print (myfunction(mylist))"
   ]
  },
  {
   "cell_type": "code",
   "execution_count": 4,
   "metadata": {
    "collapsed": false
   },
   "outputs": [
    {
     "name": "stdout",
     "output_type": "stream",
     "text": [
      "3\n"
     ]
    }
   ],
   "source": [
    "#nous pouvons donc compter le nombre d'elements des autres listes\n",
    "print (myfunction(mydict))"
   ]
  },
  {
   "cell_type": "code",
   "execution_count": 5,
   "metadata": {
    "collapsed": false
   },
   "outputs": [
    {
     "name": "stdout",
     "output_type": "stream",
     "text": [
      "3\n"
     ]
    }
   ],
   "source": [
    "print (myfunction(mytuple))"
   ]
  },
  {
   "cell_type": "code",
   "execution_count": 7,
   "metadata": {
    "collapsed": false
   },
   "outputs": [
    {
     "name": "stdout",
     "output_type": "stream",
     "text": [
      "['List item 1', 2, 3.14]\n"
     ]
    }
   ],
   "source": [
    "#affichage des éléments de la liste\n",
    "mylist = [\"List item 1\", 2, 3.14]\n",
    "print (mylist[:])"
   ]
  },
  {
   "cell_type": "code",
   "execution_count": 13,
   "metadata": {
    "collapsed": false
   },
   "outputs": [
    {
     "name": "stdout",
     "output_type": "stream",
     "text": [
      "['List item 1', 2]\n"
     ]
    }
   ],
   "source": [
    "#affichage des 2 premiers elements de la liste\n",
    "print(mylist[0:2])"
   ]
  },
  {
   "cell_type": "code",
   "execution_count": 12,
   "metadata": {
    "collapsed": false
   },
   "outputs": [
    {
     "name": "stdout",
     "output_type": "stream",
     "text": [
      "['List item 1', 2]\n"
     ]
    }
   ],
   "source": [
    "#affichage des éléments 1 et 3 \n",
    "print (mylist[-3:-1])"
   ]
  },
  {
   "cell_type": "markdown",
   "metadata": {},
   "source": [
    "# string"
   ]
  },
  {
   "cell_type": "code",
   "execution_count": 14,
   "metadata": {
    "collapsed": false
   },
   "outputs": [
    {
     "name": "stdout",
     "output_type": "stream",
     "text": [
      "This is a test.\n"
     ]
    }
   ],
   "source": [
    "#les variables dans la phrase\n",
    "print (\"This %(verb)s a %(noun)s.\" % {\"noun\": \"test\", \"verb\": \"is\"})\n"
   ]
  },
  {
   "cell_type": "markdown",
   "metadata": {},
   "source": [
    "# flow control"
   ]
  },
  {
   "cell_type": "code",
   "execution_count": 16,
   "metadata": {
    "collapsed": false
   },
   "outputs": [
    {
     "name": "stdout",
     "output_type": "stream",
     "text": [
      "range(0, 10)\n"
     ]
    }
   ],
   "source": [
    "#range number\n",
    "rangelist = range(10)\n",
    "print (rangelist)"
   ]
  },
  {
   "cell_type": "code",
   "execution_count": 25,
   "metadata": {
    "collapsed": false
   },
   "outputs": [
    {
     "name": "stdout",
     "output_type": "stream",
     "text": [
      "Dunno\n"
     ]
    }
   ],
   "source": [
    "rangelist = range(10)\n",
    "\n",
    "for number in rangelist:\n",
    "    \n",
    "    #verifie  le nombre est dans la liste\n",
    "    if number in (3, 4, 7, 9):\n",
    "        # \"Break\" termine la loupe\n",
    "        break\n",
    "    else:\n",
    "     \n",
    "        continue\n",
    "else:\n",
    "    # si la loupe ne s'arrete pas on fait le break\n",
    "    pass # D\n",
    "\n",
    "if rangelist[1] == 2:\n",
    "    print (\"The second item (lists are 0-based) is 2\")\n",
    "elif rangelist[1] == 3:\n",
    "    print (\"The second item (lists are 0-based) is 3\")\n",
    "else:\n",
    "    print (\"Dunno\")\n"
   ]
  },
  {
   "cell_type": "markdown",
   "metadata": {},
   "source": [
    "# functions"
   ]
  },
  {
   "cell_type": "code",
   "execution_count": 28,
   "metadata": {
    "collapsed": false
   },
   "outputs": [
    {
     "name": "stdout",
     "output_type": "stream",
     "text": [
      "3\n"
     ]
    }
   ],
   "source": [
    "def funcvar(x): return x + 1\n",
    "\n",
    "#elle retourne x+1\n",
    "print (funcvar(2))\n"
   ]
  },
  {
   "cell_type": "code",
   "execution_count": 30,
   "metadata": {
    "collapsed": false
   },
   "outputs": [
    {
     "name": "stdout",
     "output_type": "stream",
     "text": [
      "([1, 2, 3, 'A new item'], 4, 'A default string')\n"
     ]
    }
   ],
   "source": [
    "def passing_example(a_list, an_int=2, a_string=\"A default string\"):\n",
    "    a_list.append(\"A new item\")\n",
    "    an_int = 4\n",
    "    return a_list, an_int, a_string\n",
    "\n",
    "\n",
    "#on definit la liste \n",
    "my_list = [1, 2, 3]\n",
    "#entier\n",
    "my_int = 10\n",
    "\n",
    "#appel de a fonction\n",
    "print (passing_example(my_list, my_int))"
   ]
  },
  {
   "cell_type": "markdown",
   "metadata": {},
   "source": [
    "# classes\n"
   ]
  },
  {
   "cell_type": "code",
   "execution_count": 32,
   "metadata": {
    "collapsed": true
   },
   "outputs": [],
   "source": [
    "#classes exemples\n",
    "class MyClass(object):\n",
    "    common = 10\n",
    "    def __init__(self):\n",
    "        self.myvariable = 3\n",
    "    def myfunction(self, arg1, arg2):\n",
    "        return self.myvariable\n"
   ]
  },
  {
   "cell_type": "code",
   "execution_count": 33,
   "metadata": {
    "collapsed": false
   },
   "outputs": [
    {
     "data": {
      "text/plain": [
       "3"
      ]
     },
     "execution_count": 33,
     "metadata": {},
     "output_type": "execute_result"
    }
   ],
   "source": [
    "#instantiation\n",
    "classinstance = MyClass()\n",
    "classinstance.myfunction(1, 2)"
   ]
  },
  {
   "cell_type": "code",
   "execution_count": 35,
   "metadata": {
    "collapsed": false
   },
   "outputs": [
    {
     "data": {
      "text/plain": [
       "10"
      ]
     },
     "execution_count": 35,
     "metadata": {},
     "output_type": "execute_result"
    }
   ],
   "source": [
    "#variables utilisées par toutes les instances.\n",
    "classinstance2 = MyClass()\n",
    "classinstance.common"
   ]
  },
  {
   "cell_type": "code",
   "execution_count": 36,
   "metadata": {
    "collapsed": false
   },
   "outputs": [
    {
     "data": {
      "text/plain": [
       "10"
      ]
     },
     "execution_count": 36,
     "metadata": {},
     "output_type": "execute_result"
    }
   ],
   "source": [
    "classinstance2.common\n"
   ]
  },
  {
   "cell_type": "code",
   "execution_count": 37,
   "metadata": {
    "collapsed": false
   },
   "outputs": [
    {
     "data": {
      "text/plain": [
       "30"
      ]
     },
     "execution_count": 37,
     "metadata": {},
     "output_type": "execute_result"
    }
   ],
   "source": [
    "# utilisation du nom de classe au lieu de l'instance \n",
    "MyClass.common = 30\n",
    "classinstance.common\n"
   ]
  },
  {
   "cell_type": "code",
   "execution_count": 41,
   "metadata": {
    "collapsed": true
   },
   "outputs": [],
   "source": [
    "#exemple de classe\n",
    "\n",
    "class OtherClass(MyClass):\n",
    "\n",
    "    def __init__(self, arg1):\n",
    "        self.myvariable = 3\n",
    "        print (arg1)\n"
   ]
  },
  {
   "cell_type": "code",
   "execution_count": 42,
   "metadata": {
    "collapsed": false
   },
   "outputs": [
    {
     "name": "stdout",
     "output_type": "stream",
     "text": [
      "hello\n"
     ]
    }
   ],
   "source": [
    "classinstance = OtherClass(\"hello\")\n"
   ]
  },
  {
   "cell_type": "code",
   "execution_count": 43,
   "metadata": {
    "collapsed": false
   },
   "outputs": [
    {
     "data": {
      "text/plain": [
       "3"
      ]
     },
     "execution_count": 43,
     "metadata": {},
     "output_type": "execute_result"
    }
   ],
   "source": [
    "classinstance.myfunction(1, 2)\n",
    "3\n"
   ]
  },
  {
   "cell_type": "markdown",
   "metadata": {},
   "source": [
    "# exceptions"
   ]
  },
  {
   "cell_type": "code",
   "execution_count": 77,
   "metadata": {
    "collapsed": false
   },
   "outputs": [],
   "source": [
    "def some_function():\n",
    "    try:\n",
    "    # une division par 0 entrainant une exception\n",
    "     10 / 0\n",
    "    except ZeroDivisionError:\n",
    "        print (\"Oops, invalid.\")\n",
    "    else:\n",
    "        print (\"We're done with that.\")\n"
   ]
  },
  {
   "cell_type": "code",
   "execution_count": 79,
   "metadata": {
    "collapsed": false
   },
   "outputs": [
    {
     "name": "stdout",
     "output_type": "stream",
     "text": [
      "Oops, invalid.\n"
     ]
    }
   ],
   "source": [
    "#testons la fonction\n",
    "some_function()"
   ]
  },
  {
   "cell_type": "markdown",
   "metadata": {},
   "source": [
    "# importations"
   ]
  },
  {
   "cell_type": "code",
   "execution_count": 48,
   "metadata": {
    "collapsed": false
   },
   "outputs": [
    {
     "name": "stdout",
     "output_type": "stream",
     "text": [
      "78\n"
     ]
    }
   ],
   "source": [
    "import random\n",
    "from time import clock\n",
    "#importations depuis l'horloge temporelle\n",
    "randomint = random.randint(1, 100)\n",
    "print (randomint)"
   ]
  },
  {
   "cell_type": "markdown",
   "metadata": {},
   "source": [
    "# File "
   ]
  },
  {
   "cell_type": "code",
   "execution_count": 98,
   "metadata": {
    "collapsed": false
   },
   "outputs": [],
   "source": [
    "import pickle\n",
    "mylist = [\"This\", \"is\", 4, 13327]\n",
    "# ouverture du fichier ok dans mes documents en writing\n",
    "myfile = open(r\"C:\\\\Users\\ianmi\\Documents\\OK.txt\", \"w\")\n",
    "myfile.close()\n",
    "\n"
   ]
  },
  {
   "cell_type": "code",
   "execution_count": 103,
   "metadata": {
    "collapsed": false
   },
   "outputs": [],
   "source": [
    "# Ouverture du fichier en lecture.\n",
    "myfile = open(r\"C:\\\\Users\\ianmi\\Documents\\OK.txt\")\n"
   ]
  },
  {
   "cell_type": "markdown",
   "metadata": {},
   "source": [
    "# miscellaneous"
   ]
  },
  {
   "cell_type": "code",
   "execution_count": 104,
   "metadata": {
    "collapsed": false
   },
   "outputs": [
    {
     "name": "stdout",
     "output_type": "stream",
     "text": [
      "[3, 4, 5, 6, 8, 10, 9, 12, 15]\n",
      "[2, 3]\n"
     ]
    }
   ],
   "source": [
    "lst1 = [1, 2, 3]\n",
    "lst2 = [3, 4, 5]\n",
    "print ([x * y for x in lst1 for y in lst2])\n",
    "print ([x for x in lst1 if 4 > x > 1])\n",
    "\n",
    "#Verifie si la condition est vrai pour les objets\n",
    "# \n",
    "# \"any\" retoune true si un objet de la list est vrai.\n",
    "any([i % 3 for i in [3, 3, 4, 4, 3]])\n",
    "\n",
    "\n",
    "\n",
    "# verifie si un des éléments de la liste est vrai.\n",
    "sum(1 for i in [3, 3, 4, 4, 3] if i == 4)\n",
    "\n",
    "del lst1[0]\n",
    "print (lst1)\n",
    "del (lst1)"
   ]
  },
  {
   "cell_type": "code",
   "execution_count": 107,
   "metadata": {
    "collapsed": false,
    "scrolled": true
   },
   "outputs": [],
   "source": [
    "number = 5\n",
    "\n",
    "def myfunc():\n",
    "    \n",
    "    print (number)\n",
    "\n",
    "\n",
    "def yetanotherfunc():\n",
    "    global number\n",
    "    number = 3"
   ]
  },
  {
   "cell_type": "code",
   "execution_count": 108,
   "metadata": {
    "collapsed": true
   },
   "outputs": [],
   "source": [
    "\n",
    "def anotherfunc():\n",
    "\n",
    "    print (number)\n",
    "    number = 3"
   ]
  },
  {
   "cell_type": "code",
   "execution_count": null,
   "metadata": {
    "collapsed": true
   },
   "outputs": [],
   "source": []
  }
 ],
 "metadata": {
  "anaconda-cloud": {},
  "kernelspec": {
   "display_name": "Python [default]",
   "language": "python",
   "name": "python3"
  },
  "language_info": {
   "codemirror_mode": {
    "name": "ipython",
    "version": 3
   },
   "file_extension": ".py",
   "mimetype": "text/x-python",
   "name": "python",
   "nbconvert_exporter": "python",
   "pygments_lexer": "ipython3",
   "version": "3.5.2"
  }
 },
 "nbformat": 4,
 "nbformat_minor": 1
}
